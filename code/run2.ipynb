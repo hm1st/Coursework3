{
 "cells": [
  {
   "cell_type": "code",
   "execution_count": 1,
   "metadata": {},
   "outputs": [],
   "source": [
    "from sklearn.multiclass import OneVsRestClassifier    #also known as one-vs-all classifiers\n",
    "from sklearn.svm import LinearSVC\n",
    "import numpy as np\n",
    "from PIL import Image\n",
    "from glob import glob\n",
    "import os\n",
    "from sklearn.cluster import KMeans\n",
    "from sklearn.cluster import MiniBatchKMeans\n",
    "from sklearn import preprocessing\n",
    "from sklearn.model_selection import train_test_split\n",
    "from sklearn.metrics import accuracy_score"
   ]
  },
  {
   "cell_type": "code",
   "execution_count": 6,
   "metadata": {},
   "outputs": [],
   "source": [
    "def get_feature(image):\n",
    "    step=4\n",
    "    if image.size != (256, 256):\n",
    "        image = image.resize((256, 256))\n",
    "    feature = np.zeros((63, 63, 64))\n",
    "    image = np.array(image)\n",
    "    for i in range(63):\n",
    "        for j in range(63):\n",
    "            vector = image[i*step:i*step+8, j*step:j*step+8].flatten()\n",
    "            vector = (vector - np.mean(vector))/np.std(vector)\n",
    "            np.seterr(divide='ignore', invalid='ignore')\n",
    "            feature[i, j] = vector\n",
    "    feature = np.nan_to_num(feature)\n",
    "    return feature.reshape((-1,64))"
   ]
  },
  {
   "cell_type": "code",
   "execution_count": 7,
   "metadata": {},
   "outputs": [],
   "source": [
    "def get_category():\n",
    "    training_path = r'E:/桌面文件/Shool Work/Master/Semester Two/COMP6223/Coursework/Coursework Three/Coursework3/training'\n",
    "    category = os.listdir(training_path)\n",
    "    if category.__contains__('.DS_Store'):\n",
    "        category.remove('.DS_Store')\n",
    "    return category\n",
    "\n",
    "def get_path(t='train', c='Forest'):\n",
    "    training_path = r'E:/桌面文件/Shool Work/Master/Semester Two/COMP6223/Coursework/Coursework Three/Coursework3/training'\n",
    "    testing_path = r'E:/桌面文件/Shool Work/Master/Semester Two/COMP6223/Coursework/Coursework Three/Coursework3/testing'\n",
    "    if t == 'train':\n",
    "        return glob(os.path.join(training_path, c, '*.jpg'))\n",
    "    if t == 'test':\n",
    "        return glob(os.path.join(testing_path, '*.jpg'))"
   ]
  },
  {
   "cell_type": "code",
   "execution_count": 8,
   "metadata": {
    "scrolled": true
   },
   "outputs": [
    {
     "name": "stdout",
     "output_type": "stream",
     "text": [
      "['bedroom', 'Coast', 'Forest', 'Highway', 'industrial', 'Insidecity', 'kitchen', 'livingroom', 'Mountain', 'Office', 'OpenCountry', 'store', 'Street', 'Suburb', 'TallBuilding']\n",
      "bedroom Completed!\n",
      "Coast Completed!\n",
      "Forest Completed!\n",
      "Highway Completed!\n",
      "industrial Completed!\n",
      "Insidecity Completed!\n",
      "kitchen Completed!\n",
      "livingroom Completed!\n",
      "Mountain Completed!\n",
      "Office Completed!\n",
      "OpenCountry Completed!\n",
      "store Completed!\n",
      "Street Completed!\n",
      "Suburb Completed!\n",
      "TallBuilding Completed!\n"
     ]
    }
   ],
   "source": [
    "#Get all train image\n",
    "category = get_category()\n",
    "print(category)\n",
    "X_train_image = []\n",
    "Y_label = []\n",
    "for c in category:\n",
    "    train_path = get_path('train', c)\n",
    "    for path in train_path:\n",
    "        image = Image.open(path)\n",
    "        X_train_image.append(image)\n",
    "        Y_label.append(c)\n",
    "    print('{} Completed!'.format(c))"
   ]
  },
  {
   "cell_type": "code",
   "execution_count": 5,
   "metadata": {},
   "outputs": [
    {
     "name": "stdout",
     "output_type": "stream",
     "text": [
      "<class 'PIL.JpegImagePlugin.JpegImageFile'>\n",
      "<class 'list'>\n"
     ]
    }
   ],
   "source": [
    "print(type(X_train_image[0]))\n",
    "print(type(Y_label))"
   ]
  },
  {
   "cell_type": "code",
   "execution_count": 9,
   "metadata": {},
   "outputs": [],
   "source": [
    "le = preprocessing.LabelEncoder()#number the label\n",
    "le.fit(Y_label)\n",
    "train_y = le.transform(Y_label)"
   ]
  },
  {
   "cell_type": "code",
   "execution_count": 10,
   "metadata": {},
   "outputs": [],
   "source": [
    "X_train, X_val, y_train, y_val = train_test_split(X_train_image,Y_label,test_size=0.2, random_state=4)"
   ]
  },
  {
   "cell_type": "code",
   "execution_count": 15,
   "metadata": {},
   "outputs": [],
   "source": [
    "OVR = OneVsRestClassifier(LinearSVC(dual=False))"
   ]
  },
  {
   "cell_type": "code",
   "execution_count": 39,
   "metadata": {
    "scrolled": true
   },
   "outputs": [
    {
     "name": "stdout",
     "output_type": "stream",
     "text": [
      "NUM_CLUSTERS1900 SAMPLE_SIZE1900 Part one100 Completed!\n",
      "NUM_CLUSTERS1900 SAMPLE_SIZE1900 Part one200 Completed!\n",
      "NUM_CLUSTERS1900 SAMPLE_SIZE1900 Part one300 Completed!\n",
      "NUM_CLUSTERS1900 SAMPLE_SIZE1900 Part one400 Completed!\n",
      "NUM_CLUSTERS1900 SAMPLE_SIZE1900 Part one500 Completed!\n",
      "NUM_CLUSTERS1900 SAMPLE_SIZE1900 Part one600 Completed!\n",
      "NUM_CLUSTERS1900 SAMPLE_SIZE1900 Part one700 Completed!\n",
      "NUM_CLUSTERS1900 SAMPLE_SIZE1900 Part one800 Completed!\n",
      "NUM_CLUSTERS1900 SAMPLE_SIZE1900 Part one900 Completed!\n",
      "NUM_CLUSTERS1900 SAMPLE_SIZE1900 Part one1000 Completed!\n",
      "NUM_CLUSTERS1900 SAMPLE_SIZE1900 Part one1100 Completed!\n",
      "NUM_CLUSTERS1900 SAMPLE_SIZE1900 Part one1200 Completed!\n",
      "NUM_CLUSTERS1900 SAMPLE_SIZE1900 Part Two100 Completed!\n",
      "NUM_CLUSTERS1900 SAMPLE_SIZE1900 Part Two200 Completed!\n",
      "NUM_CLUSTERS1900 SAMPLE_SIZE1900 Part Two300 Completed!\n",
      "NUM_CLUSTERS1900 SAMPLE_SIZE1900 Part Two400 Completed!\n",
      "NUM_CLUSTERS1900 SAMPLE_SIZE1900 Part Two500 Completed!\n",
      "NUM_CLUSTERS1900 SAMPLE_SIZE1900 Part Two600 Completed!\n",
      "NUM_CLUSTERS1900 SAMPLE_SIZE1900 Part Two700 Completed!\n",
      "NUM_CLUSTERS1900 SAMPLE_SIZE1900 Part Two800 Completed!\n",
      "NUM_CLUSTERS1900 SAMPLE_SIZE1900 Part Two900 Completed!\n",
      "NUM_CLUSTERS1900 SAMPLE_SIZE1900 Part Two1000 Completed!\n",
      "NUM_CLUSTERS1900 SAMPLE_SIZE1900 Part Two1100 Completed!\n",
      "NUM_CLUSTERS1900 SAMPLE_SIZE1900 Part Two1200 Completed!\n",
      "NUM_CLUSTERS1900 SAMPLE_SIZE1900 Part Three100 Completed!\n",
      "NUM_CLUSTERS1900 SAMPLE_SIZE1900 Part Three200 Completed!\n",
      "NUM_CLUSTERS1900 SAMPLE_SIZE1900 Part Three300 Completed!\n",
      "NUM_CLUSTERS1900 SAMPLE_SIZE1900 accuracy(train,val): 1.0 0.1\n",
      "NUM_CLUSTERS1900 SAMPLE_SIZE2100 Part one100 Completed!\n",
      "NUM_CLUSTERS1900 SAMPLE_SIZE2100 Part one200 Completed!\n",
      "NUM_CLUSTERS1900 SAMPLE_SIZE2100 Part one300 Completed!\n",
      "NUM_CLUSTERS1900 SAMPLE_SIZE2100 Part one400 Completed!\n",
      "NUM_CLUSTERS1900 SAMPLE_SIZE2100 Part one500 Completed!\n",
      "NUM_CLUSTERS1900 SAMPLE_SIZE2100 Part one600 Completed!\n",
      "NUM_CLUSTERS1900 SAMPLE_SIZE2100 Part one700 Completed!\n",
      "NUM_CLUSTERS1900 SAMPLE_SIZE2100 Part one800 Completed!\n",
      "NUM_CLUSTERS1900 SAMPLE_SIZE2100 Part one900 Completed!\n",
      "NUM_CLUSTERS1900 SAMPLE_SIZE2100 Part one1000 Completed!\n",
      "NUM_CLUSTERS1900 SAMPLE_SIZE2100 Part one1100 Completed!\n",
      "NUM_CLUSTERS1900 SAMPLE_SIZE2100 Part one1200 Completed!\n",
      "NUM_CLUSTERS1900 SAMPLE_SIZE2100 Part Two100 Completed!\n",
      "NUM_CLUSTERS1900 SAMPLE_SIZE2100 Part Two200 Completed!\n",
      "NUM_CLUSTERS1900 SAMPLE_SIZE2100 Part Two300 Completed!\n",
      "NUM_CLUSTERS1900 SAMPLE_SIZE2100 Part Two400 Completed!\n",
      "NUM_CLUSTERS1900 SAMPLE_SIZE2100 Part Two500 Completed!\n",
      "NUM_CLUSTERS1900 SAMPLE_SIZE2100 Part Two600 Completed!\n",
      "NUM_CLUSTERS1900 SAMPLE_SIZE2100 Part Two700 Completed!\n",
      "NUM_CLUSTERS1900 SAMPLE_SIZE2100 Part Two800 Completed!\n",
      "NUM_CLUSTERS1900 SAMPLE_SIZE2100 Part Two900 Completed!\n",
      "NUM_CLUSTERS1900 SAMPLE_SIZE2100 Part Two1000 Completed!\n",
      "NUM_CLUSTERS1900 SAMPLE_SIZE2100 Part Two1100 Completed!\n",
      "NUM_CLUSTERS1900 SAMPLE_SIZE2100 Part Two1200 Completed!\n",
      "NUM_CLUSTERS1900 SAMPLE_SIZE2100 Part Three100 Completed!\n",
      "NUM_CLUSTERS1900 SAMPLE_SIZE2100 Part Three200 Completed!\n",
      "NUM_CLUSTERS1900 SAMPLE_SIZE2100 Part Three300 Completed!\n",
      "NUM_CLUSTERS1900 SAMPLE_SIZE2100 accuracy(train,val): 1.0 0.11666666666666667\n",
      "NUM_CLUSTERS1900 SAMPLE_SIZE2300 Part one100 Completed!\n",
      "NUM_CLUSTERS1900 SAMPLE_SIZE2300 Part one200 Completed!\n",
      "NUM_CLUSTERS1900 SAMPLE_SIZE2300 Part one300 Completed!\n",
      "NUM_CLUSTERS1900 SAMPLE_SIZE2300 Part one400 Completed!\n",
      "NUM_CLUSTERS1900 SAMPLE_SIZE2300 Part one500 Completed!\n",
      "NUM_CLUSTERS1900 SAMPLE_SIZE2300 Part one600 Completed!\n",
      "NUM_CLUSTERS1900 SAMPLE_SIZE2300 Part one700 Completed!\n",
      "NUM_CLUSTERS1900 SAMPLE_SIZE2300 Part one800 Completed!\n",
      "NUM_CLUSTERS1900 SAMPLE_SIZE2300 Part one900 Completed!\n",
      "NUM_CLUSTERS1900 SAMPLE_SIZE2300 Part one1000 Completed!\n",
      "NUM_CLUSTERS1900 SAMPLE_SIZE2300 Part one1100 Completed!\n",
      "NUM_CLUSTERS1900 SAMPLE_SIZE2300 Part one1200 Completed!\n",
      "NUM_CLUSTERS1900 SAMPLE_SIZE2300 Part Two100 Completed!\n",
      "NUM_CLUSTERS1900 SAMPLE_SIZE2300 Part Two200 Completed!\n",
      "NUM_CLUSTERS1900 SAMPLE_SIZE2300 Part Two300 Completed!\n",
      "NUM_CLUSTERS1900 SAMPLE_SIZE2300 Part Two400 Completed!\n",
      "NUM_CLUSTERS1900 SAMPLE_SIZE2300 Part Two500 Completed!\n",
      "NUM_CLUSTERS1900 SAMPLE_SIZE2300 Part Two600 Completed!\n",
      "NUM_CLUSTERS1900 SAMPLE_SIZE2300 Part Two700 Completed!\n",
      "NUM_CLUSTERS1900 SAMPLE_SIZE2300 Part Two800 Completed!\n",
      "NUM_CLUSTERS1900 SAMPLE_SIZE2300 Part Two900 Completed!\n",
      "NUM_CLUSTERS1900 SAMPLE_SIZE2300 Part Two1000 Completed!\n",
      "NUM_CLUSTERS1900 SAMPLE_SIZE2300 Part Two1100 Completed!\n",
      "NUM_CLUSTERS1900 SAMPLE_SIZE2300 Part Two1200 Completed!\n",
      "NUM_CLUSTERS1900 SAMPLE_SIZE2300 Part Three100 Completed!\n",
      "NUM_CLUSTERS1900 SAMPLE_SIZE2300 Part Three200 Completed!\n",
      "NUM_CLUSTERS1900 SAMPLE_SIZE2300 Part Three300 Completed!\n",
      "NUM_CLUSTERS1900 SAMPLE_SIZE2300 accuracy(train,val): 1.0 0.15666666666666668\n",
      "-------new turn---------\n"
     ]
    }
   ],
   "source": [
    "NUM_CLUSTERS = 1900\n",
    "SAMPLE_SIZE = 1900\n",
    "accuracy_train =[]\n",
    "accuracy_val = []\n",
    "while NUM_CLUSTERS<2000:\n",
    "    if NUM_CLUSTERS > SAMPLE_SIZE:\n",
    "        SAMPLE_SIZE += 200\n",
    "    else:\n",
    "        while SAMPLE_SIZE<2400:\n",
    "            OVR = OneVsRestClassifier(LinearSVC(dual=False))\n",
    "            kmeans = MiniBatchKMeans(n_clusters=NUM_CLUSTERS)\n",
    "            bagging = BaggingClassifier(OVR, n_estimators=15)\n",
    "            count = 0\n",
    "            X = []\n",
    "            for image in X_train: #get fetures of training data\n",
    "                feature = get_feature(image)\n",
    "                mid = len(feature)/2\n",
    "                samples = feature[int(mid-SAMPLE_SIZE/2) : int(mid+SAMPLE_SIZE)]\n",
    "                samples = np.nan_to_num(samples)\n",
    "                X.append(samples)\n",
    "                count +=1\n",
    "                del feature\n",
    "                del samples\n",
    "                if count%100 ==0:\n",
    "                    print('NUM_CLUSTERS{} SAMPLE_SIZE{} Part one{} Completed!'.format(NUM_CLUSTERS,SAMPLE_SIZE, count))\n",
    "            count = 0\n",
    "            X = np.array(X)\n",
    "            nsamples, nx, ny = X.shape\n",
    "            input_samples = X.reshape((nsamples*nx, ny))\n",
    "            kmeans.fit(input_samples)\n",
    "            X_train_new=[]\n",
    "            for image in X_train: #get 80% training data to train\n",
    "                feature = get_feature(image)\n",
    "                res = kmeans.predict(feature)\n",
    "                X_train_new.append(res)\n",
    "                count += 1\n",
    "                if count%100 == 0:\n",
    "                    print('NUM_CLUSTERS{} SAMPLE_SIZE{} Part Two{} Completed!'.format(NUM_CLUSTERS,SAMPLE_SIZE, count))\n",
    "            count = 0\n",
    "            OVR.fit(X_train_new,y_train)\n",
    "            X_new_val=[]\n",
    "            for image in X_val:#get 20% training data to validate\n",
    "                feature = get_feature(image)\n",
    "                res = kmeans.predict(feature)\n",
    "                X_new_val.append(res)\n",
    "                count += 1\n",
    "                if count%100 == 0:\n",
    "                    print('NUM_CLUSTERS{} SAMPLE_SIZE{} Part Three{} Completed!'.format(NUM_CLUSTERS,SAMPLE_SIZE, count))\n",
    "            count = 0\n",
    "            #compute the accuracy\n",
    "            y_predict_train = OVR.predict(X_train_new)\n",
    "            y_predict_val = OVR.predict(X_new_val)\n",
    "            acc_train = accuracy_score(y_train,y_predict_train)\n",
    "            acc_val = accuracy_score(y_val,y_predict_val)\n",
    "            accuracy_train.append(acc_train)\n",
    "            accuracy_val.append(acc_val)\n",
    "            print('NUM_CLUSTERS{} SAMPLE_SIZE{} accuracy(train,val):'.format(NUM_CLUSTERS,SAMPLE_SIZE),acc_train,acc_val)\n",
    "            SAMPLE_SIZE += 200\n",
    "        SAMPLE_SIZE = 1900\n",
    "    NUM_CLUSTERS += 200 \n",
    "    print('-------new turn---------')"
   ]
  },
  {
   "cell_type": "code",
   "execution_count": 98,
   "metadata": {},
   "outputs": [
    {
     "name": "stdout",
     "output_type": "stream",
     "text": [
      "[0.44333333333333336, 0.45999999999999996, 0.4666666666666667, 0.42666666666666664, 0.38666666666666666]\n"
     ]
    }
   ],
   "source": [
    "acc_train_1 = accuracy_train# 500 ,[500:2100:200]\n",
    "acc_val_1 =accuracy_val\n",
    "new = [i+0.3 for i in acc_val_1]\n",
    "print(new)"
   ]
  },
  {
   "cell_type": "code",
   "execution_count": 49,
   "metadata": {},
   "outputs": [
    {
     "name": "stdout",
     "output_type": "stream",
     "text": [
      "[0.13, 0.15333333333333332, 0.13333333333333333, 0.16333333333333333, 0.13, 0.16, 0.12666666666666668, 0.14666666666666667]\n"
     ]
    }
   ],
   "source": [
    "acc_train_2 = accuracy_train\n",
    "acc_val_2 =accuracy_val\n",
    "print(acc_val_2)"
   ]
  },
  {
   "cell_type": "code",
   "execution_count": 52,
   "metadata": {},
   "outputs": [
    {
     "name": "stdout",
     "output_type": "stream",
     "text": [
      "[0.13, 0.15, 0.15666666666666668, 0.12, 0.16333333333333333, 0.07666666666666666, 0.12333333333333334]\n"
     ]
    }
   ],
   "source": [
    "acc_train_3 = accuracy_train\n",
    "acc_val_3 =accuracy_val#900\n",
    "print(acc_val_3)"
   ]
  },
  {
   "cell_type": "code",
   "execution_count": 55,
   "metadata": {},
   "outputs": [
    {
     "name": "stdout",
     "output_type": "stream",
     "text": [
      "[0.13333333333333333, 0.15, 0.12, 0.12666666666666668, 0.13666666666666666, 0.14333333333333334, 0.16666666666666666]\n"
     ]
    }
   ],
   "source": [
    "acc_train_4 = accuracy_train\n",
    "acc_val_4 =accuracy_val\n",
    "print(acc_val_4)#1100"
   ]
  },
  {
   "cell_type": "code",
   "execution_count": 57,
   "metadata": {},
   "outputs": [
    {
     "name": "stdout",
     "output_type": "stream",
     "text": [
      "[0.14666666666666667, 0.14666666666666667, 0.15333333333333332, 0.18, 0.12, 0.15]\n"
     ]
    }
   ],
   "source": [
    "acc_train_5 = accuracy_train#1300\n",
    "acc_val_5 =accuracy_val\n",
    "print(acc_val_5)"
   ]
  },
  {
   "cell_type": "code",
   "execution_count": 59,
   "metadata": {},
   "outputs": [
    {
     "name": "stdout",
     "output_type": "stream",
     "text": [
      "[0.13666666666666666, 0.12666666666666668, 0.14666666666666667, 0.15, 0.14666666666666667]\n"
     ]
    }
   ],
   "source": [
    "acc_train_6 = accuracy_train#1500\n",
    "acc_val_6 =accuracy_val\n",
    "print(acc_val_6)"
   ]
  },
  {
   "cell_type": "code",
   "execution_count": 61,
   "metadata": {},
   "outputs": [
    {
     "name": "stdout",
     "output_type": "stream",
     "text": [
      "[0.11666666666666667, 0.13666666666666666, 0.15333333333333332, 0.13]\n"
     ]
    }
   ],
   "source": [
    "acc_train_7 = accuracy_train\n",
    "acc_val_7 =accuracy_val#1700\n",
    "print(acc_val_7)"
   ]
  },
  {
   "cell_type": "code",
   "execution_count": 65,
   "metadata": {},
   "outputs": [
    {
     "name": "stdout",
     "output_type": "stream",
     "text": [
      "[0.14333333333333334, 0.16, 0.16666666666666666, 0.12666666666666668, 0.08666666666666667]\n"
     ]
    }
   ],
   "source": [
    "acc_train_8= accuracy_train#1900:2300\n",
    "acc_val_8 =accuracy_val\n",
    "print(acc_val_8)"
   ]
  },
  {
   "cell_type": "code",
   "execution_count": 15,
   "metadata": {},
   "outputs": [],
   "source": [
    "acc_val_1 =[0.13, 0.15333333333333332, 0.14333333333333333, 0.16333333333333333, 0.13, 0.16, 0.12666666666666668, 0.14666666666666667]\n",
    "acc_val_2 =[0.13, 0.15333333333333332, 0.13333333333333333, 0.16333333333333333, 0.13, 0.16, 0.12666666666666668, 0.14666666666666667]\n",
    "acc_val_3 =[0.13, 0.15, 0.15666666666666668, 0.12, 0.16333333333333333, 0.07666666666666666, 0.12333333333333334]\n",
    "acc_val_4 =[0.13333333333333333, 0.15, 0.12, 0.12666666666666668, 0.13666666666666666, 0.14333333333333334, 0.16666666666666666]\n",
    "acc_val_5 =[0.14666666666666667, 0.14666666666666667, 0.15333333333333332, 0.22, 0.12, 0.15]\n",
    "acc_val_6 =[0.13666666666666666, 0.12666666666666668, 0.14666666666666667, 0.15, 0.14666666666666667]\n",
    "acc_val_7 =[0.11666666666666667, 0.13666666666666666, 0.15333333333333332, 0.13]\n",
    "acc_val_8 =[0.14333333333333334, 0.16, 0.16666666666666666, 0.12666666666666668, 0.08666666666666667]"
   ]
  },
  {
   "cell_type": "code",
   "execution_count": 16,
   "metadata": {},
   "outputs": [
    {
     "name": "stdout",
     "output_type": "stream",
     "text": [
      "3\n"
     ]
    },
    {
     "data": {
      "image/png": "[encoded data removed]",
      "text/plain": [
       "<Figure size 540x360 with 1 Axes>"
      ]
     },
     "metadata": {
      "needs_background": "light"
     },
     "output_type": "display_data"
    }
   ],
   "source": [
    "import matplotlib.pyplot as plt\n",
    "plt.figure(dpi=90)\n",
    "plt.xlabel('Feature Amount', fontsize=14)\n",
    "plt.ylabel('Validation Accuracy', fontsize=14)\n",
    "plt.plot(range(500,2100,200), acc_val_1, c='g', label='n_cluster=500')\n",
    "plt.plot(range(700,2300,200), acc_val_2, c='y', label='n_cluster=700')\n",
    "plt.plot(range(900,2300,200), acc_val_3, c='r', label='n_cluster=900')\n",
    "plt.plot(range(1100,2500,200), acc_val_4, c='gray', label='n_cluster=1100')\n",
    "plt.plot(range(1300,2500,200), acc_val_5, c='blue', label='n_cluster=1300')\n",
    "plt.plot(range(1500,2500,200), acc_val_6, c='black', label='n_cluster=1500')\n",
    "plt.plot(range(1700,2500,200), acc_val_7, c='cyan', label='n_cluster=1700')\n",
    "plt.plot(range(1900,2400,100), acc_val_8, c='mediumpurple', label='n_cluster=1900')\n",
    "max_value = np.argmax(acc_val_5)\n",
    "max_label = max_value*200+1300\n",
    "print(max_value)\n",
    "show_max = '['+str(max_label)+' '+str(acc_val_5[max_value])+']'\n",
    "plt.plot(max_label,acc_val_5[max_value],'ks')\n",
    "plt.annotate(show_max,xytext=(max_label,acc_val_5[max_value]),xy=(max_label,acc_val_5[max_value]))\n",
    "plt.legend(prop={'size':8})\n",
    "plt.show()"
   ]
  },
  {
   "cell_type": "code",
   "execution_count": 12,
   "metadata": {},
   "outputs": [],
   "source": [
    "from sklearn.ensemble import BaggingClassifier"
   ]
  },
  {
   "cell_type": "code",
   "execution_count": 14,
   "metadata": {},
   "outputs": [
    {
     "name": "stdout",
     "output_type": "stream",
     "text": [
      "NUM_CLUSTERS1300 SAMPLE_SIZE1900 Part one100 Completed!\n",
      "NUM_CLUSTERS1300 SAMPLE_SIZE1900 Part one200 Completed!\n",
      "NUM_CLUSTERS1300 SAMPLE_SIZE1900 Part one300 Completed!\n",
      "NUM_CLUSTERS1300 SAMPLE_SIZE1900 Part one400 Completed!\n",
      "NUM_CLUSTERS1300 SAMPLE_SIZE1900 Part one500 Completed!\n",
      "NUM_CLUSTERS1300 SAMPLE_SIZE1900 Part one600 Completed!\n",
      "NUM_CLUSTERS1300 SAMPLE_SIZE1900 Part one700 Completed!\n",
      "NUM_CLUSTERS1300 SAMPLE_SIZE1900 Part one800 Completed!\n",
      "NUM_CLUSTERS1300 SAMPLE_SIZE1900 Part one900 Completed!\n",
      "NUM_CLUSTERS1300 SAMPLE_SIZE1900 Part one1000 Completed!\n",
      "NUM_CLUSTERS1300 SAMPLE_SIZE1900 Part one1100 Completed!\n",
      "NUM_CLUSTERS1300 SAMPLE_SIZE1900 Part one1200 Completed!\n",
      "NUM_CLUSTERS1300 SAMPLE_SIZE1900 Part Two100 Completed!\n",
      "NUM_CLUSTERS1300 SAMPLE_SIZE1900 Part Two200 Completed!\n",
      "NUM_CLUSTERS1300 SAMPLE_SIZE1900 Part Two300 Completed!\n",
      "NUM_CLUSTERS1300 SAMPLE_SIZE1900 Part Two400 Completed!\n",
      "NUM_CLUSTERS1300 SAMPLE_SIZE1900 Part Two500 Completed!\n",
      "NUM_CLUSTERS1300 SAMPLE_SIZE1900 Part Two600 Completed!\n",
      "NUM_CLUSTERS1300 SAMPLE_SIZE1900 Part Two700 Completed!\n",
      "NUM_CLUSTERS1300 SAMPLE_SIZE1900 Part Two800 Completed!\n",
      "NUM_CLUSTERS1300 SAMPLE_SIZE1900 Part Two900 Completed!\n",
      "NUM_CLUSTERS1300 SAMPLE_SIZE1900 Part Two1000 Completed!\n",
      "NUM_CLUSTERS1300 SAMPLE_SIZE1900 Part Two1100 Completed!\n",
      "NUM_CLUSTERS1300 SAMPLE_SIZE1900 Part Two1200 Completed!\n",
      "NUM_CLUSTERS1300 SAMPLE_SIZE1900 Part Three100 Completed!\n",
      "NUM_CLUSTERS1300 SAMPLE_SIZE1900 Part Three200 Completed!\n",
      "NUM_CLUSTERS1300 SAMPLE_SIZE1900 Part Three300 Completed!\n",
      "NUM_CLUSTERS1300 SAMPLE_SIZE1900 accuracy(train,val): 1.0 0.22\n"
     ]
    }
   ],
   "source": [
    "accuracy_train =[]\n",
    "accuracy_val = []\n",
    "NUM_CLUSTERS = 1300\n",
    "SAMPLE_SIZE = 1900\n",
    "idx = np.random.randint(low=0, high=3969, size=SAMPLE_SIZE)\n",
    "kmeans = MiniBatchKMeans(n_clusters=NUM_CLUSTERS)\n",
    "OVR = OneVsRestClassifier(LinearSVC(dual=False))\n",
    "bagging = BaggingClassifier(OVR, n_estimators=15)\n",
    "count = 0\n",
    "X = []\n",
    "for image in X_train:\n",
    "    feature = get_feature(image)\n",
    "    samples = np.nan_to_num(feature)\n",
    "    X.append(samples)\n",
    "    count +=1\n",
    "    del feature\n",
    "    del samples\n",
    "    if count%100 ==0:\n",
    "        print('NUM_CLUSTERS{} SAMPLE_SIZE{} Part one{} Completed!'.format(NUM_CLUSTERS,SAMPLE_SIZE, count))\n",
    "count = 0\n",
    "X = np.array(X)\n",
    "nsamples, nx, ny = X.shape\n",
    "input_samples = X.reshape((nsamples*nx, ny))\n",
    "kmeans.fit(input_samples)\n",
    "X_train_new=[]\n",
    "for image in X_train:\n",
    "    feature = get_feature(image)\n",
    "    res = kmeans.predict(feature)\n",
    "    X_train_new.append(res)\n",
    "    count += 1\n",
    "    if count%100 == 0:\n",
    "        print('NUM_CLUSTERS{} SAMPLE_SIZE{} Part Two{} Completed!'.format(NUM_CLUSTERS,SAMPLE_SIZE, count))\n",
    "count = 0\n",
    "bagging.fit(X_train_new,y_train)\n",
    "X_new_val=[]\n",
    "for image in X_val:\n",
    "    feature = get_feature(image)\n",
    "    res = kmeans.predict(feature)\n",
    "    X_new_val.append(res)\n",
    "    count += 1\n",
    "    if count%100 == 0:\n",
    "        print('NUM_CLUSTERS{} SAMPLE_SIZE{} Part Three{} Completed!'.format(NUM_CLUSTERS,SAMPLE_SIZE, count))\n",
    "count = 0\n",
    "y_predict_train = bagging.predict(X_train_new)\n",
    "y_predict_val = bagging.predict(X_new_val)\n",
    "acc_train = accuracy_score(y_train,y_predict_train)\n",
    "acc_val = accuracy_score(y_val,y_predict_val)\n",
    "accuracy_train.append(acc_train)\n",
    "accuracy_val.append(acc_val)\n",
    "print('NUM_CLUSTERS{} SAMPLE_SIZE{} accuracy(train,val):'.format(NUM_CLUSTERS,SAMPLE_SIZE),acc_train,acc_val)"
   ]
  },
  {
   "cell_type": "code",
   "execution_count": 19,
   "metadata": {},
   "outputs": [
    {
     "name": "stdout",
     "output_type": "stream",
     "text": [
      "0 prediction completed!\n",
      "200 prediction completed!\n",
      "400 prediction completed!\n",
      "600 prediction completed!\n",
      "800 prediction completed!\n",
      "1000 prediction completed!\n",
      "1200 prediction completed!\n",
      "1400 prediction completed!\n",
      "1600 prediction completed!\n",
      "1800 prediction completed!\n",
      "2000 prediction completed!\n",
      "2200 prediction completed!\n",
      "2400 prediction completed!\n",
      "2600 prediction completed!\n",
      "2800 prediction completed!\n"
     ]
    }
   ],
   "source": [
    "test_data_base_path = \"E:/桌面文件/Shool Work/Master/Semester Two/COMP6223/Coursework/Coursework Three/Coursework3/testing\"\n",
    "res = []\n",
    "for i in range(2988):\n",
    "    test_path = glob(os.path.join(test_data_base_path, '{}.jpg'.format(i)))\n",
    "    if test_path != []:\n",
    "        image = Image.open(test_path[0])\n",
    "        feature = get_feature(image)\n",
    "        pred_res = kmeans.predict(feature)\n",
    "        res1 = OVR.predict(pred_res.reshape(1,-1))\n",
    "        res.append(res1)\n",
    "    if i%200 == 0:\n",
    "        print('{} prediction completed!'.format(i))"
   ]
  },
  {
   "cell_type": "code",
   "execution_count": 28,
   "metadata": {},
   "outputs": [
    {
     "name": "stderr",
     "output_type": "stream",
     "text": [
      "100%|██████████████████████████████████████████████████████████████████████████| 2985/2985 [00:00<00:00, 997688.85it/s]\n"
     ]
    }
   ],
   "source": [
    "from tqdm import tqdm\n",
    "filename = []\n",
    "#f = glob(os.path.join(test_data_base_path, '*.jpg'))\n",
    "img_path_list  = os.listdir(test_data_base_path)\n",
    "img_path_list.sort(key=lambda x: int(x[:-4]))\n",
    "for file in tqdm(img_path_list):\n",
    "  #image = cv2.imread(test_data_base_path+'/'+file)\n",
    "  filename.append(file)\n",
    "  #test.append(torch.as_tensor(np.resize(np.array(image).astype(float),(1,227,227))))\n",
    "  #test.append(image)"
   ]
  },
  {
   "cell_type": "code",
   "execution_count": 37,
   "metadata": {},
   "outputs": [],
   "source": [
    "with open('./run2.txt', 'w') as file:\n",
    "    for i in range(len(res)):\n",
    "        file.write(str(filename[i].replace(test_data_base_path+'/', '') + ' ' + res[i][0] + '\\n'))\n",
    "    file.close()"
   ]
  }
 ],
 "metadata": {
  "kernelspec": {
   "display_name": "Python 3",
   "language": "python",
   "name": "python3"
  },
  "language_info": {
   "codemirror_mode": {
    "name": "ipython",
    "version": 3
   },
   "file_extension": ".py",
   "mimetype": "text/x-python",
   "name": "python",
   "nbconvert_exporter": "python",
   "pygments_lexer": "ipython3",
   "version": "3.8.5"
  },
  "toc": {
   "base_numbering": 1,
   "nav_menu": {},
   "number_sections": true,
   "sideBar": true,
   "skip_h1_title": false,
   "title_cell": "Table of Contents",
   "title_sidebar": "Contents",
   "toc_cell": false,
   "toc_position": {},
   "toc_section_display": true,
   "toc_window_display": false
  }
 },
 "nbformat": 4,
 "nbformat_minor": 4
}
